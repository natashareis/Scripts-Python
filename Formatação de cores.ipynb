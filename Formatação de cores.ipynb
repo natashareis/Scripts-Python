{
 "cells": [
  {
   "cell_type": "markdown",
   "metadata": {},
   "source": [
    "cores no terminal"
   ]
  },
  {
   "cell_type": "code",
   "execution_count": 11,
   "metadata": {},
   "outputs": [
    {
     "name": "stdout",
     "output_type": "stream",
     "text": [
      "\u001b[4;30;45mOlá Mundo!\u001b[n\n"
     ]
    }
   ],
   "source": [
    "print('\\033[4;30;45mOlá Mundo!\\033[n')\n",
    "#a formatação se dá pelo \\033[numCorM"
   ]
  },
  {
   "cell_type": "code",
   "execution_count": 10,
   "metadata": {},
   "outputs": [
    {
     "name": "stdout",
     "output_type": "stream",
     "text": [
      "Os valores são \u001b[32m3\u001b[m e \u001b[31m5.\n"
     ]
    }
   ],
   "source": [
    "a=3\n",
    "b=5\n",
    "print('Os valores são \\033[32m{}\\033[m e \\033[31m{}.'.format(a,b))"
   ]
  },
  {
   "cell_type": "code",
   "execution_count": 14,
   "metadata": {},
   "outputs": [
    {
     "name": "stdout",
     "output_type": "stream",
     "text": [
      "Boa noite, \u001b[4;34mNatasha\u001b[m!!!\n"
     ]
    }
   ],
   "source": [
    "#Tirando proveito do format\n",
    "nome = 'Natasha'\n",
    "print('Boa noite, {}{}{}!!!'.format('\\033[4;34m',nome,'\\033[m'))"
   ]
  },
  {
   "cell_type": "code",
   "execution_count": null,
   "metadata": {},
   "outputs": [],
   "source": []
  }
 ],
 "metadata": {
  "kernelspec": {
   "display_name": "Python 3",
   "language": "python",
   "name": "python3"
  },
  "language_info": {
   "codemirror_mode": {
    "name": "ipython",
    "version": 3
   },
   "file_extension": ".py",
   "mimetype": "text/x-python",
   "name": "python",
   "nbconvert_exporter": "python",
   "pygments_lexer": "ipython3",
   "version": "3.6.5"
  }
 },
 "nbformat": 4,
 "nbformat_minor": 2
}
