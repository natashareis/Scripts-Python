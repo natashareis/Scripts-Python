{
 "cells": [
  {
   "cell_type": "code",
   "execution_count": 4,
   "metadata": {},
   "outputs": [
    {
     "name": "stdout",
     "output_type": "stream",
     "text": [
      "Digite um número: 5\n",
      "O fatorial de 5 é 120 \n"
     ]
    }
   ],
   "source": [
    "from math import factorial\n",
    "\n",
    "\n",
    "num = int(input('Digite um número: '))\n",
    "fatorial = math.factorial(num)\n",
    "print ('O fatorial de {} é {} '.format(num, fatorial))"
   ]
  },
  {
   "cell_type": "code",
   "execution_count": 9,
   "metadata": {},
   "outputs": [
    {
     "name": "stdout",
     "output_type": "stream",
     "text": [
      "Digite um número: 5\n",
      "A raiz de 5 é igual a 2\n"
     ]
    }
   ],
   "source": [
    "import math\n",
    "num = int(input('Digite um número: '))\n",
    "raiz=math.sqrt(num)\n",
    "print('A raiz de {} é igual a {}'.format(num, math.floor(raiz)))"
   ]
  },
  {
   "cell_type": "code",
   "execution_count": 36,
   "metadata": {},
   "outputs": [
    {
     "name": "stdout",
     "output_type": "stream",
     "text": [
      "Curso em video Python\n",
      "so em vide\n",
      "Curso em vide\n",
      "o Python\n",
      "urso em video \n",
      "us mvdo\n",
      "Croe ie yhn\n",
      "para escrever uma frase longa que ocupe\n",
      "diversas linhas, basta usar três aspas duplas\n",
      "3\n",
      "CURSO EM VIDEO PYTHON\n",
      "curso em video python\n",
      "3\n",
      "21\n",
      "Curso em video Android\n",
      "Curso em video Android\n",
      "True\n",
      "0\n",
      "['Curso', 'em', 'video', 'Android']\n",
      "Curso\n",
      "e\n",
      "34\n"
     ]
    }
   ],
   "source": [
    "frase = 'Curso em video Python'\n",
    "print(frase) #imprime a string\n",
    "print(frase[3:13]) #imprime da posição 3 a 13\n",
    "print(frase[:13]) #imprime da posição 0 a 13\n",
    "print(frase[13:]) #imprime da posição 13 em diante\n",
    "print(frase[1:15]) #imprime da posição 1 a 15\n",
    "print(frase[1:15:2]) #imprime da posição 1 a 15 de 2 em 2\n",
    "print(frase[::2]) #imprime a frase de 2 em 2\n",
    "\n",
    "print(\"\"\"para escrever uma frase longa que ocupe\n",
    "diversas linhas, basta usar três aspas duplas\"\"\")\n",
    "\n",
    "print(frase.count('o')) #conta a quantidade de caracteres o\n",
    "print(frase.upper()) #transforma em minuscula\n",
    "print(frase.lower()) #transforma em maiuscula\n",
    "print(frase.upper().count('O')) #conta O maisculo\n",
    "print(len(frase)) #tamanho da frase\n",
    "print(frase.replace ('Python','Android')) #substitui no print\n",
    " \n",
    "frase = (frase.replace ('Python','Android')) #substitui na frase\n",
    "print(frase)\n",
    "print('Curso' in frase) #procura na frase true ou false\n",
    "print (frase.find('Curso')) #encontra a posição da palabra\n",
    "dividido = (frase.split()) #dividindo a frase\n",
    "print(dividido) #imprime dividido\n",
    "print(dividido[0]) #após dividido imprime a primeira posição\n",
    "print(dividido[2][3]) #imprime a terceira letra da segunda palavra\n",
    "frase2 = '       Curso em Vídeo Python      '\n",
    "print(len(frase2))"
   ]
  },
  {
   "cell_type": "code",
   "execution_count": null,
   "metadata": {},
   "outputs": [],
   "source": [
    "#Desafio\n",
    "nome = str(input('Digite o nome completo: ')).strip()\n",
    "print(nome.upper())\n",
    "print(nome.lower())\n",
    "print(len(nome)-nome.count(' '))\n",
    "separa=nome.split()\n",
    "print(separa[0] + ' tem {} letras'.format(len(separa[0])))\n",
    "print('Seu primeiro nome tem {}'.format(nome.find(' ')))"
   ]
  },
  {
   "cell_type": "code",
   "execution_count": null,
   "metadata": {},
   "outputs": [],
   "source": []
  }
 ],
 "metadata": {
  "kernelspec": {
   "display_name": "Python 3",
   "language": "python",
   "name": "python3"
  },
  "language_info": {
   "codemirror_mode": {
    "name": "ipython",
    "version": 3
   },
   "file_extension": ".py",
   "mimetype": "text/x-python",
   "name": "python",
   "nbconvert_exporter": "python",
   "pygments_lexer": "ipython3",
   "version": "3.6.5"
  }
 },
 "nbformat": 4,
 "nbformat_minor": 2
}
