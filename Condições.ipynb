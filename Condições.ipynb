{
 "cells": [
  {
   "cell_type": "code",
   "execution_count": 3,
   "metadata": {},
   "outputs": [
    {
     "name": "stdout",
     "output_type": "stream",
     "text": [
      "Qual é o seu nome? Maria\n",
      "Seu nome é tão normal!\n",
      "Bom dia Maria!\n"
     ]
    }
   ],
   "source": [
    "nome = str(input('Qual é o seu nome? '))\n",
    "if nome == 'Natasha':\n",
    "    print('Que nome lindo você tem!')\n",
    "else:\n",
    "    print('Seu nome é tão normal!')\n",
    "print('Bom dia {}!'.format(nome))"
   ]
  },
  {
   "cell_type": "code",
   "execution_count": 8,
   "metadata": {},
   "outputs": [
    {
     "name": "stdout",
     "output_type": "stream",
     "text": [
      "Digite a primeira nota: 3.8\n",
      "Digite a segunda nota: 7.9\n",
      "Sua nota é 5.8 você foi reprovado!\n"
     ]
    }
   ],
   "source": [
    "n1 = float(input('Digite a primeira nota: '))\n",
    "n2 = float(input('Digite a segunda nota: '))\n",
    "m = (n1+n2)/2\n",
    "if m>=6:\n",
    "    print('Sua nota é {:.1f} você passou!'.format(m))\n",
    "else:\n",
    "     print('Sua nota é {:.1f} você foi reprovado!'.format(m))"
   ]
  },
  {
   "cell_type": "markdown",
   "metadata": {},
   "source": [
    "Escreva um programa que faça o computador pensar em um número inteiro entre 0 e 5 e peça para o usuário tentar descobrir qual foi o numero escolhido pelo computador. O programa deverá escrever na tela se o usuário venceu ou perdeu"
   ]
  },
  {
   "cell_type": "code",
   "execution_count": 5,
   "metadata": {},
   "outputs": [
    {
     "name": "stdout",
     "output_type": "stream",
     "text": [
      "Escolha um número de 0 a 5: 2\n",
      "Você errou! O computador escolheu o \n",
      "    número 5, e você escolheu o \n",
      "    número 2\n"
     ]
    }
   ],
   "source": [
    "from random import randint\n",
    "computador = randint(0,5)\n",
    "usuario = int(input('Escolha um número de 0 a 5: '))\n",
    "if computador == usuário:\n",
    "    print ('Parabéns, você acertou!')\n",
    "else:\n",
    "    print(\"\"\"Você errou! O computador escolheu o \n",
    "    número {}, e você escolheu o \n",
    "    número {}\"\"\".format(computador, usuario))"
   ]
  },
  {
   "cell_type": "markdown",
   "metadata": {},
   "source": [
    "Escreva um programa que leia a velocidade de um carro\n",
    "Se ele ultrapassar 80 km/h, mostre uma mensagem dizendo que ele foi multado. A multa vai custar R$7,00 por cada km acima do limite"
   ]
  },
  {
   "cell_type": "code",
   "execution_count": 7,
   "metadata": {},
   "outputs": [
    {
     "name": "stdout",
     "output_type": "stream",
     "text": [
      "Digite a velocidade: 90\n",
      "Valor devido da multa é R$70.00\n"
     ]
    }
   ],
   "source": [
    "velocidade = float(input('Digite a velocidade: '))\n",
    "if velocidade > 80:\n",
    "    multa = (velocidade - 80) * 7.00\n",
    "    print ('Valor devido da multa é R${:.2f}'.format(multa))\n",
    "else:\n",
    "    print('Dentro do limite de velocidade!')"
   ]
  },
  {
   "cell_type": "markdown",
   "metadata": {},
   "source": [
    "Crie um programa que leia um número inteiro e mostre na tela se ele é PAR ou Impar"
   ]
  },
  {
   "cell_type": "code",
   "execution_count": 9,
   "metadata": {},
   "outputs": [
    {
     "name": "stdout",
     "output_type": "stream",
     "text": [
      "Digite um número: 4\n",
      "O número é par!\n"
     ]
    }
   ],
   "source": [
    "n = int(input('Digite um número: '))\n",
    "if n%2 == 0:\n",
    "    print('O número é par!')\n",
    "else:\n",
    "    print('O número é impar!')"
   ]
  },
  {
   "cell_type": "markdown",
   "metadata": {},
   "source": [
    "Desenvolva um programa que pergunte a distancia de uma viagem em KM. Calcule o preço da passagem cobrando R$0,50 por km para viagens de até 200km, e R$0,45 para viagens mais longas"
   ]
  },
  {
   "cell_type": "code",
   "execution_count": 11,
   "metadata": {},
   "outputs": [
    {
     "name": "stdout",
     "output_type": "stream",
     "text": [
      "Digite a distância da sua viagem: 120\n",
      "O preço da passagem será 60.00\n"
     ]
    }
   ],
   "source": [
    "distancia = float(input('Digite a distância da sua viagem: '))\n",
    "if distancia<=200:\n",
    "    valor = distancia*0.50\n",
    "    print('O preço da passagem será {:.2f}'. format(valor))\n",
    "else:\n",
    "    valor = distancia*0.50\n",
    "    print('O preço da passagem será {:.2f}'. format(valor))"
   ]
  },
  {
   "cell_type": "markdown",
   "metadata": {},
   "source": [
    "Faça um programa que leia um ano qualquer e mostre se ele é bissexto"
   ]
  },
  {
   "cell_type": "code",
   "execution_count": 13,
   "metadata": {},
   "outputs": [
    {
     "name": "stdout",
     "output_type": "stream",
     "text": [
      "Digite o ano: 2016\n",
      "É bissexto!\n"
     ]
    }
   ],
   "source": [
    "ano = int(input('Digite o ano: '))\n",
    "if ano%4==0:\n",
    "    print('É bissexto!')\n",
    "else:\n",
    "    print ('Não é bissexto!')"
   ]
  },
  {
   "cell_type": "markdown",
   "metadata": {},
   "source": [
    "Faça um programa que leia três números e mostre qual é o maior e qual é o menor"
   ]
  },
  {
   "cell_type": "code",
   "execution_count": 19,
   "metadata": {},
   "outputs": [
    {
     "name": "stdout",
     "output_type": "stream",
     "text": [
      "Digite um numero: 4\n",
      "Digite outro numero: 5\n",
      "Digite outro numero: 3\n",
      "O segundo numero é o maior!\n"
     ]
    }
   ],
   "source": [
    "a = int(input('Digite um numero: '))\n",
    "b = int(input('Digite outro numero: '))\n",
    "c = int(input('Digite outro numero: '))\n",
    "if a>b & a>c:\n",
    "    print('O primeiro número é o maior!')\n",
    "elif b>a & b>c:\n",
    "    print('O segundo numero é o maior!')\n",
    "else:\n",
    "    print('O último número é o maior!')"
   ]
  },
  {
   "cell_type": "markdown",
   "metadata": {},
   "source": [
    "Escrea um programa que pergunte o salário de um funcionario e calcule um aumento de 10% para maiores de R$1250,00\n",
    "Para os inferiores ou iguais, o aumento é de 15%"
   ]
  },
  {
   "cell_type": "code",
   "execution_count": 21,
   "metadata": {},
   "outputs": [
    {
     "name": "stdout",
     "output_type": "stream",
     "text": [
      "Digite o valor do salário: 1500\n",
      "O aumento será de 150.00 e o novo salário será 1650.00\n"
     ]
    }
   ],
   "source": [
    "salario = float(input('Digite o valor do salário: '))\n",
    "if salario > 1250.00:\n",
    "    aumento = salario*0.10\n",
    "    salario = salario + aumento\n",
    "    print('O aumento será de {:.2f} e o novo salário será {:.2f}'.format(aumento,salario))\n",
    "else:\n",
    "    aumento = salario*0.15\n",
    "    salario = salario + aumento\n",
    "    print('O aumento será de {:.2f} e o novo salário será {:.2f}'.format(aumento,salario))"
   ]
  },
  {
   "cell_type": "markdown",
   "metadata": {},
   "source": [
    "Desenvolva um programa que leia o comprimento de três retas e diga ao usuário se elas podem ou não formar um triangulo"
   ]
  },
  {
   "cell_type": "code",
   "execution_count": 34,
   "metadata": {},
   "outputs": [
    {
     "name": "stdout",
     "output_type": "stream",
     "text": [
      "Digite o comprimeto de uma reta: 2\n",
      "Digite o comprimeto de outra reta: 4\n",
      "Digite o comprimeto de outra reta: 6\n",
      "Não dá para triangulo!\n"
     ]
    }
   ],
   "source": [
    "a = float(input('Digite o comprimeto de uma reta: '))\n",
    "b = float(input('Digite o comprimeto de outra reta: '))\n",
    "c = float(input('Digite o comprimeto de outra reta: '))\n",
    "if a<b+c and b<a+c and c<a+b: \n",
    "    print ('Pode formar triangulo!')\n",
    "else:\n",
    "    print('Não dá para triangulo!')"
   ]
  },
  {
   "cell_type": "code",
   "execution_count": null,
   "metadata": {},
   "outputs": [],
   "source": []
  }
 ],
 "metadata": {
  "kernelspec": {
   "display_name": "Python 3",
   "language": "python",
   "name": "python3"
  },
  "language_info": {
   "codemirror_mode": {
    "name": "ipython",
    "version": 3
   },
   "file_extension": ".py",
   "mimetype": "text/x-python",
   "name": "python",
   "nbconvert_exporter": "python",
   "pygments_lexer": "ipython3",
   "version": "3.6.5"
  }
 },
 "nbformat": 4,
 "nbformat_minor": 2
}
