{
 "cells": [
  {
   "cell_type": "code",
   "execution_count": 1,
   "metadata": {},
   "outputs": [
    {
     "name": "stdout",
     "output_type": "stream",
     "text": [
      "1\n",
      "2\n",
      "3\n",
      "4\n",
      "5\n",
      "6\n",
      "7\n",
      "8\n",
      "9\n",
      "Fim\n"
     ]
    }
   ],
   "source": [
    "c=1\n",
    "while c<10:\n",
    "    print(c)\n",
    "    c=c+1\n",
    "print('Fim')"
   ]
  },
  {
   "cell_type": "code",
   "execution_count": 2,
   "metadata": {},
   "outputs": [
    {
     "name": "stdout",
     "output_type": "stream",
     "text": [
      "Digite um valor: 1\n",
      "Digite um valor: 2\n",
      "Digite um valor: 3\n",
      "Digite um valor: 4\n",
      "Digite um valor: 0\n",
      "Fim\n"
     ]
    }
   ],
   "source": [
    "n = 1\n",
    "while n!=0:\n",
    "    n = int (input('Digite um valor: '))\n",
    "print('Fim')"
   ]
  },
  {
   "cell_type": "code",
   "execution_count": 1,
   "metadata": {},
   "outputs": [
    {
     "name": "stdout",
     "output_type": "stream",
     "text": [
      "Digite um valor: 1\n",
      "Deseja continuar[S/N]? 2\n",
      "Opção Inválida\n",
      "Deseja continuar[S/N]? s\n",
      "Digite um valor: 2\n",
      "Deseja continuar[S/N]? n\n",
      "Fim\n"
     ]
    }
   ],
   "source": [
    "r = 'S'\n",
    "while r in 'sS':\n",
    "    n = int(input('Digite um valor: '))\n",
    "    r = str(input('Deseja continuar[S/N]? '))\n",
    "    if r not in 'Nn' and r not in \"Ss\":\n",
    "        print('Opção Inválida')\n",
    "        r = str(input('Deseja continuar[S/N]? '))\n",
    "print('Fim')"
   ]
  },
  {
   "cell_type": "code",
   "execution_count": 2,
   "metadata": {},
   "outputs": [
    {
     "name": "stdout",
     "output_type": "stream",
     "text": [
      "Digite um valor: 1\n",
      "Deseja continuar[S/N]? 2\n",
      "Fim\n"
     ]
    }
   ],
   "source": [
    "r = 'S'\n",
    "while r == 'S':\n",
    "    n = int(input('Digite um valor: '))\n",
    "    r = str(input('Deseja continuar[S/N]? ')).upper()\n",
    "print('Fim')"
   ]
  },
  {
   "cell_type": "code",
   "execution_count": null,
   "metadata": {},
   "outputs": [],
   "source": [
    "n = 1\n",
    "par=0\n",
    "impar = 0\n",
    "while n!=0:\n",
    "    n = int (input('Digite um valor: '))\n",
    "    if n%2 == 0:\n",
    "        par = par+1\n",
    "    else:\n",
    "        impar = impar+1\n",
    "print('Você digitou {} numeros pares e {} numeros impares'.format(par, impar))"
   ]
  },
  {
   "cell_type": "markdown",
   "metadata": {},
   "source": [
    "Faça um programa que leia o sexo de uma pessoa, mas só aceite os valores 'M' ou 'F'. Caso esteja errado, peça a digitação novamente até ter um valor correto"
   ]
  },
  {
   "cell_type": "code",
   "execution_count": 8,
   "metadata": {},
   "outputs": [
    {
     "name": "stdout",
     "output_type": "stream",
     "text": [
      "Digite seu gênero [M/F]: f\n",
      "Genero digitado F\n",
      "Fim\n"
     ]
    }
   ],
   "source": [
    "sexo = str(input('Digite seu gênero [M/F]: ')).upper()\n",
    "while sexo not in 'Ff' and sexo not in \"Mm\":\n",
    "        print('Valor incorreto.')\n",
    "        sexo = str(input('Digite seu gênero: ')).upper()\n",
    "print('Gênero digitado {}'.format(sexo))\n",
    "print('Fim')"
   ]
  },
  {
   "cell_type": "markdown",
   "metadata": {},
   "source": [
    "melhore o jogo do desafio 028 onde o computador vai \"pensar\" em um número de 0 a 10. Só que agora o jogador vai tentar adivinhar até acertar, mostrando no final quantos palpites foram necessários para vencer."
   ]
  },
  {
   "cell_type": "code",
   "execution_count": 1,
   "metadata": {},
   "outputs": [
    {
     "name": "stdout",
     "output_type": "stream",
     "text": [
      "Digite seu palpite: 1\n",
      "Digite seu palpite: 2\n",
      "Digite seu palpite: 3\n",
      "você precisou de 3 tentativas para acertar\n"
     ]
    }
   ],
   "source": [
    "import random\n",
    "\n",
    "tentativaserradas=0\n",
    "tentativascertas= 0\n",
    "n=random.randint(0, 10)\n",
    "escolha=int(input('Digite seu palpite: '))\n",
    "while escolha!=n:\n",
    "    escolha=int(input('Digite seu palpite: '))\n",
    "    tentativaserradas = tentativaserradas+1\n",
    "    tentativascertas = tentativaserradas+1\n",
    "print('você precisou de {} tentativas para acertar'.format(tentativascertas))"
   ]
  },
  {
   "cell_type": "markdown",
   "metadata": {},
   "source": [
    "Crie um programa que leia dois valores e mostre um menu na tela:\n",
    "[1]Somar\n",
    "[2]Multiplicar\n",
    "[3]Maior\n",
    "[4]novos números\n",
    "[5]sair do programa\n",
    "\n",
    "Seu programa deverá realizar a operação solicitada em cada caso"
   ]
  },
  {
   "cell_type": "code",
   "execution_count": null,
   "metadata": {},
   "outputs": [
    {
     "name": "stdout",
     "output_type": "stream",
     "text": [
      "Escolha uma das opções a seguir:\n",
      "                   1-Somar\n",
      "                   2-Multiplicar\n",
      "                   3-Qual é o maior\n",
      "                   4-Digitar novos números\n",
      "                   5-Sair: 0\n",
      "Opção inválida!\n"
     ]
    }
   ],
   "source": [
    "soma = 0\n",
    "mult = 0\n",
    "opcao=0\n",
    "while opcao!=5:\n",
    "          opcao=int(input(\"\"\"Escolha uma das opções a seguir:\n",
    "                   1-Somar\n",
    "                   2-Multiplicar\n",
    "                   3-Qual é o maior\n",
    "                   4-Digitar novos números\n",
    "                   5-Sair: \"\"\"))\n",
    "          if opcao==1:\n",
    "                n1 = int(input('Digite um valor: '))\n",
    "                n2 = int(input('Digite outro valor: '))\n",
    "                soma = n1+n2\n",
    "                print('A soma é {}'.format(soma))\n",
    "          elif opcao==2:\n",
    "            n1 = int(input('Digite um valor: '))\n",
    "            n2 = int(input('Digite outro valor: '))\n",
    "            mult = n1*n2\n",
    "            print('A multiplicação é {}'.format(mult))\n",
    "          elif opcao==3:\n",
    "            n1 = int(input('Digite um valor: '))\n",
    "            n2 = int(input('Digite outro valor: '))\n",
    "            if n1>n2:\n",
    "                print('O maior é {}'.format(n1))\n",
    "            else:\n",
    "                print('O maior é {}'.format(n2))\n",
    "          elif opcao==4:\n",
    "             n1 = int(input('Digite um valor: '))\n",
    "             n2 = int(input('Digite outro valor: '))\n",
    "          elif opcao!=1 and opcao !=2 and opcao!=3 and opcao!=4 and opcao!=5:\n",
    "            print('Opção inválida!')            \n",
    "            \n",
    "print('Você saiu!')\n",
    "\n",
    "                   "
   ]
  },
  {
   "cell_type": "markdown",
   "metadata": {},
   "source": [
    "Faça um programa que leia um número qualquer e mostre o seu fatorial"
   ]
  },
  {
   "cell_type": "code",
   "execution_count": 1,
   "metadata": {},
   "outputs": [
    {
     "name": "stdout",
     "output_type": "stream",
     "text": [
      "Digite um número para calcular o fatorial: 5\n",
      "O valor do fatorial é: \n"
     ]
    }
   ],
   "source": [
    "\n",
    "        "
   ]
  },
  {
   "cell_type": "markdown",
   "metadata": {},
   "source": [
    "Refaça o desafio 051, lendo o primeiro termo e a razão de uma PA, mostrando os 10 primeiros termos da progressão, usando a estrutura while"
   ]
  },
  {
   "cell_type": "code",
   "execution_count": null,
   "metadata": {},
   "outputs": [],
   "source": []
  },
  {
   "cell_type": "markdown",
   "metadata": {},
   "source": [
    "Melhore o desafio anterior, perguntando para o usuário se ele quer mostrar mais alguns termos. O programa encerra quando ele disser que quer mostrar 0 termos"
   ]
  },
  {
   "cell_type": "code",
   "execution_count": null,
   "metadata": {},
   "outputs": [],
   "source": []
  },
  {
   "cell_type": "markdown",
   "metadata": {},
   "source": [
    "Escreva um programa que leia um número inteiro n qualquer e mostre na tela os n primeiros elementos de uma sequencia de fibonacci "
   ]
  },
  {
   "cell_type": "code",
   "execution_count": null,
   "metadata": {},
   "outputs": [],
   "source": []
  },
  {
   "cell_type": "markdown",
   "metadata": {},
   "source": [
    "Crie um programa que leia vários números inteiros pelo teclado. O progrma só vai parar quando o usuário digitar o valor 999, que é a condição de parada. No final, mostre quantos números foram digitados e qual foi a soma entre eles (desconsiderando o flag)"
   ]
  },
  {
   "cell_type": "code",
   "execution_count": null,
   "metadata": {},
   "outputs": [],
   "source": []
  }
 ],
 "metadata": {
  "kernelspec": {
   "display_name": "Python 3",
   "language": "python",
   "name": "python3"
  },
  "language_info": {
   "codemirror_mode": {
    "name": "ipython",
    "version": 3
   },
   "file_extension": ".py",
   "mimetype": "text/x-python",
   "name": "python",
   "nbconvert_exporter": "python",
   "pygments_lexer": "ipython3",
   "version": "3.6.5"
  }
 },
 "nbformat": 4,
 "nbformat_minor": 2
}
