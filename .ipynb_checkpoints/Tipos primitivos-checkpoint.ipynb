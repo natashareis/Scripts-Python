{
 "cells": [
  {
   "cell_type": "code",
   "execution_count": 2,
   "metadata": {},
   "outputs": [
    {
     "name": "stdout",
     "output_type": "stream",
     "text": [
      "Digite algo: Python\n",
      "O tipo primitivo desse valor é:  <class 'str'>\n",
      "Só tem espaços?  False\n",
      "É um numero?  False\n",
      "É um alfabetico?  True\n",
      "É um alfanumerico?  True\n",
      "Está em maiuscula?  False\n",
      "Está em minuscula?  False\n",
      "Está em capitalizada?  True\n"
     ]
    }
   ],
   "source": [
    "a = input ('Digite algo: ')\n",
    "print ('O tipo primitivo desse valor é: ', type(a))\n",
    "print ('Só tem espaços? ', a.isspace())\n",
    "print (\"É um numero? \", a.isnumeric())\n",
    "print (\"É um alfabetico? \", a.isalpha())\n",
    "print (\"É um alfanumerico? \", a.isalnum())\n",
    "print (\"Está em maiuscula? \", a.isupper())\n",
    "print (\"Está em minuscula? \", a.islower())\n",
    "print (\"Está em capitalizada? \", a.istitle())"
   ]
  },
  {
   "cell_type": "code",
   "execution_count": 3,
   "metadata": {},
   "outputs": [
    {
     "data": {
      "text/plain": [
       "11"
      ]
     },
     "execution_count": 3,
     "metadata": {},
     "output_type": "execute_result"
    }
   ],
   "source": [
    "5+3*2"
   ]
  },
  {
   "cell_type": "code",
   "execution_count": 4,
   "metadata": {},
   "outputs": [
    {
     "data": {
      "text/plain": [
       "25"
      ]
     },
     "execution_count": 4,
     "metadata": {},
     "output_type": "execute_result"
    }
   ],
   "source": [
    "5**2"
   ]
  },
  {
   "cell_type": "code",
   "execution_count": 5,
   "metadata": {},
   "outputs": [
    {
     "data": {
      "text/plain": [
       "9"
      ]
     },
     "execution_count": 5,
     "metadata": {},
     "output_type": "execute_result"
    }
   ],
   "source": [
    "19//2"
   ]
  },
  {
   "cell_type": "code",
   "execution_count": 6,
   "metadata": {},
   "outputs": [
    {
     "data": {
      "text/plain": [
       "9.5"
      ]
     },
     "execution_count": 6,
     "metadata": {},
     "output_type": "execute_result"
    }
   ],
   "source": [
    "19/2"
   ]
  },
  {
   "cell_type": "code",
   "execution_count": 7,
   "metadata": {},
   "outputs": [
    {
     "data": {
      "text/plain": [
       "719281585292469709351383367279589878611933789157564147000433300789151797908651760501835214758833382669689387515084336861855291222062035733360219361780562343052904496631867391172075359666148473715836612432369966297049776285450533232716953213128693348015055150920937833122601177580906672990311973238822158165566026505996274570032632917312840305917107242921520788930477298767008485514606804498976042940710184332710282636870988989843035945390069345100797221217595808526171255338592850427477458544403629720055368449475604119077674547525218642663130145626055281631685895660706396241150113249494302927745275435148055764847810137371265208317619079860086956366215364887162089100265578249230640138242741817434791096056129380451608563592013739243477896600011604269064881287562415979998177949947706220430543241298454113770754394399748557256043180536301988874807792024809498900250912360083369268825328445596687559689857916406192310516753651751877330009039252101113701375844011495798372188160769981303119083501640017241816417304200555171498574395447202467647068961978355523059550474137809227450338259583694659400922889407910708963752235397080444292836435287837914294540521581102544614326491666786340172787587371174001483773725740788123183219198765388455987265426046482492808590246511441816729353694445845650756404853772321057616156367548198158336"
      ]
     },
     "execution_count": 7,
     "metadata": {},
     "output_type": "execute_result"
    }
   ],
   "source": [
    "356**522"
   ]
  },
  {
   "cell_type": "code",
   "execution_count": 8,
   "metadata": {},
   "outputs": [
    {
     "data": {
      "text/plain": [
       "0"
      ]
     },
     "execution_count": 8,
     "metadata": {},
     "output_type": "execute_result"
    }
   ],
   "source": [
    "18%2"
   ]
  },
  {
   "cell_type": "code",
   "execution_count": 9,
   "metadata": {},
   "outputs": [
    {
     "data": {
      "text/plain": [
       "64"
      ]
     },
     "execution_count": 9,
     "metadata": {},
     "output_type": "execute_result"
    }
   ],
   "source": [
    "pow(4,3)"
   ]
  },
  {
   "cell_type": "code",
   "execution_count": 10,
   "metadata": {},
   "outputs": [
    {
     "data": {
      "text/plain": [
       "64"
      ]
     },
     "execution_count": 10,
     "metadata": {},
     "output_type": "execute_result"
    }
   ],
   "source": [
    "4**3"
   ]
  },
  {
   "cell_type": "code",
   "execution_count": 11,
   "metadata": {},
   "outputs": [
    {
     "data": {
      "text/plain": [
       "3.0"
      ]
     },
     "execution_count": 11,
     "metadata": {},
     "output_type": "execute_result"
    }
   ],
   "source": [
    "9**(1/2)"
   ]
  },
  {
   "cell_type": "code",
   "execution_count": 10,
   "metadata": {},
   "outputs": [
    {
     "name": "stdout",
     "output_type": "stream",
     "text": [
      "Um valor: 3\n",
      "Outro valor: 4\n",
      "A soma é 7, \n",
      " a subtração é -1, a multiplicação é 12  e a divisão é 0.750 a divisão inteira é 0 e a potencia é 81\n"
     ]
    }
   ],
   "source": [
    "n1 = int (input('Um valor: '))\n",
    "n2 = int(input('Outro valor: '))\n",
    "s=n1+n2\n",
    "sub=n1-n2\n",
    "mult=n1*n2\n",
    "div=n1/n2\n",
    "di=n1//n2\n",
    "e=n1**n2\n",
    "print ('A soma é {}, \\n a subtração é {}, a multiplicação é {}  e a divisão é {:.3f}'. format(s,sub,mult,div), end=' ')\n",
    "print ('a divisão inteira é {} e a potencia é {}'.format(di,e))"
   ]
  },
  {
   "cell_type": "code",
   "execution_count": 2,
   "metadata": {},
   "outputs": [
    {
     "name": "stdout",
     "output_type": "stream",
     "text": [
      "Digite um valor: 1\n",
      "O seu sucessor é 2 e o seu antecessor é 0\n"
     ]
    }
   ],
   "source": [
    "n = int (input ('Digite um valor: '))\n",
    "print ('O seu sucessor é {} e o seu antecessor é {}'.format((n+1),(n-1)))"
   ]
  },
  {
   "cell_type": "code",
   "execution_count": 4,
   "metadata": {},
   "outputs": [
    {
     "name": "stdout",
     "output_type": "stream",
     "text": [
      "Digite um número: 9\n",
      "O dobro é 18, o triplo é 27 e a raiz quadrada é 3.0\n"
     ]
    }
   ],
   "source": [
    "n = int (input ('Digite um número: '))\n",
    "print ('O dobro é {}, o triplo é {} e a raiz quadrada é {}'.format((n*2), (n*3), (n**(1/2))))"
   ]
  },
  {
   "cell_type": "code",
   "execution_count": 1,
   "metadata": {},
   "outputs": [
    {
     "name": "stdout",
     "output_type": "stream",
     "text": [
      "Primeira nota do aluno: 6\n",
      "Segunda nota do aluno: 7\n",
      "A média entre 6.0 e 7.0 é igual a 6.5\n"
     ]
    }
   ],
   "source": [
    "n1 = float(input('Primeira nota do aluno: '))\n",
    "n2 = float(input('Segunda nota do aluno: '))\n",
    "m= (n1+n2)/2\n",
    "print('A média entre {} e {} é igual a {}'. format(n1,n2,m))"
   ]
  },
  {
   "cell_type": "markdown",
   "metadata": {},
   "source": [
    "TAUBUADAAAAA"
   ]
  },
  {
   "cell_type": "code",
   "execution_count": 6,
   "metadata": {},
   "outputs": [
    {
     "name": "stdout",
     "output_type": "stream",
     "text": [
      "Digite um número para ver sua tabuada9\n",
      "9 x  1 = 9\n",
      "9 x  2 = 18\n",
      "9 x  3 = 27\n",
      "9 x  4 = 36\n",
      "9 x  5 = 45\n",
      "9 x  6 = 54\n",
      "9 x  7 = 63\n",
      "9 x  8 = 72\n",
      "9 x  9 = 81\n",
      "9 x 10 = 90\n"
     ]
    }
   ],
   "source": [
    "n = int (input('Digite um número para ver sua tabuada 4'))\n",
    "print('{} x {:2} = {}'.format(n, 1, n*1))\n",
    "print('{} x {:2} = {}'.format(n, 2, n*2))\n",
    "print('{} x {:2} = {}'.format(n, 3, n*3))\n",
    "print('{} x {:2} = {}'.format(n, 4, n*4))\n",
    "print('{} x {:2} = {}'.format(n, 5, n*5))\n",
    "print('{} x {:2} = {}'.format(n, 6, n*6))\n",
    "print('{} x {:2} = {}'.format(n, 7, n*7))\n",
    "print('{} x {:2} = {}'.format(n, 8, n*8))\n",
    "print('{} x {:2} = {}'.format(n, 9, n*9))\n",
    "print('{} x {:2} = {}'.format(n, 10, n*10))"
   ]
  },
  {
   "cell_type": "markdown",
   "metadata": {},
   "source": [
    "Faça um algoritmo que leia o preço de um produto e mostre seu novo preço, com 5% de desconto"
   ]
  },
  {
   "cell_type": "code",
   "execution_count": 1,
   "metadata": {},
   "outputs": [
    {
     "name": "stdout",
     "output_type": "stream",
     "text": [
      "Qual o preço do produto? R$100\n",
      "O preço com desconto é 95.0\n"
     ]
    }
   ],
   "source": [
    "preço = float(input ('Qual o preço do produto? R$'))\n",
    "novo = preço-(preço*5/100)\n",
    "print ('O preço com desconto é {}'.format(novo))"
   ]
  },
  {
   "cell_type": "code",
   "execution_count": null,
   "metadata": {},
   "outputs": [],
   "source": []
  }
 ],
 "metadata": {
  "kernelspec": {
   "display_name": "Python 3",
   "language": "python",
   "name": "python3"
  },
  "language_info": {
   "codemirror_mode": {
    "name": "ipython",
    "version": 3
   },
   "file_extension": ".py",
   "mimetype": "text/x-python",
   "name": "python",
   "nbconvert_exporter": "python",
   "pygments_lexer": "ipython3",
   "version": "3.6.5"
  }
 },
 "nbformat": 4,
 "nbformat_minor": 2
}
