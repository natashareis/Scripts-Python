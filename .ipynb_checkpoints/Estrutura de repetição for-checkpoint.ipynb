{
 "cells": [
  {
   "cell_type": "code",
   "execution_count": 3,
   "metadata": {},
   "outputs": [
    {
     "name": "stdout",
     "output_type": "stream",
     "text": [
      "Olá!\n",
      "Olá!\n",
      "Olá!\n",
      "Olá!\n",
      "Olá!\n",
      "Olá!\n",
      "Olá!\n",
      "Olá!\n",
      "Olá!\n",
      "Olá!\n",
      "Fim\n"
     ]
    }
   ],
   "source": [
    "for c in range(0,10):\n",
    "    print ('Olá!')\n",
    "print('Fim')"
   ]
  },
  {
   "cell_type": "code",
   "execution_count": 4,
   "metadata": {},
   "outputs": [
    {
     "name": "stdout",
     "output_type": "stream",
     "text": [
      "Natasha\n",
      "é muito linda mesmo, bicho\n",
      "Natasha\n",
      "é muito linda mesmo, bicho\n",
      "Natasha\n",
      "é muito linda mesmo, bicho\n",
      "Natasha\n",
      "é muito linda mesmo, bicho\n",
      "Natasha\n",
      "é muito linda mesmo, bicho\n",
      "Natasha\n",
      "é muito linda mesmo, bicho\n",
      "Natasha\n",
      "é muito linda mesmo, bicho\n",
      "Natasha\n",
      "é muito linda mesmo, bicho\n",
      "Natasha\n",
      "é muito linda mesmo, bicho\n",
      "Natasha\n",
      "é muito linda mesmo, bicho\n"
     ]
    }
   ],
   "source": [
    "for c in range(0,10):\n",
    "    print ('Natasha')\n",
    "    print('é muito linda mesmo, bicho')"
   ]
  },
  {
   "cell_type": "code",
   "execution_count": 6,
   "metadata": {},
   "outputs": [
    {
     "name": "stdout",
     "output_type": "stream",
     "text": [
      "0\n",
      "1\n",
      "2\n",
      "3\n",
      "4\n",
      "5\n",
      "6\n",
      "7\n",
      "8\n",
      "9\n"
     ]
    }
   ],
   "source": [
    "for c in range(0,10):\n",
    "    print (c)"
   ]
  },
  {
   "cell_type": "code",
   "execution_count": 7,
   "metadata": {},
   "outputs": [
    {
     "name": "stdout",
     "output_type": "stream",
     "text": [
      "0\n",
      "2\n",
      "4\n",
      "6\n",
      "8\n"
     ]
    }
   ],
   "source": [
    "for c in range (0,10,2):\n",
    "    print(c)"
   ]
  },
  {
   "cell_type": "code",
   "execution_count": 8,
   "metadata": {},
   "outputs": [
    {
     "name": "stdout",
     "output_type": "stream",
     "text": [
      "0\n",
      "3\n",
      "6\n"
     ]
    }
   ],
   "source": [
    "for c in range (0,9,3):\n",
    "    print(c)"
   ]
  },
  {
   "cell_type": "code",
   "execution_count": 10,
   "metadata": {},
   "outputs": [
    {
     "name": "stdout",
     "output_type": "stream",
     "text": [
      "Digite um número: 8\n",
      "1\n",
      "2\n",
      "3\n",
      "4\n",
      "5\n",
      "6\n",
      "7\n",
      "8\n",
      "Fim\n"
     ]
    }
   ],
   "source": [
    "n = int(input('Digite um número: '))\n",
    "for c in range(0,n):\n",
    "    print(c+1)\n",
    "print('Fim')"
   ]
  },
  {
   "cell_type": "code",
   "execution_count": 11,
   "metadata": {},
   "outputs": [
    {
     "name": "stdout",
     "output_type": "stream",
     "text": [
      "Início/ Começa em: 2\n",
      "Fim/Termina em: 10\n",
      "Passo / pula de: 3\n",
      "2\n",
      "5\n",
      "8\n",
      "Acabou o laço\n"
     ]
    }
   ],
   "source": [
    "i = int(input('Início/ Começa em: '))\n",
    "f = int(input('Fim/Termina em: '))\n",
    "p = int(input('Passo / pula de: '))\n",
    "for c in range(i, f+1, p):\n",
    "    print(c)\n",
    "print('Acabou o laço!')"
   ]
  },
  {
   "cell_type": "code",
   "execution_count": 12,
   "metadata": {},
   "outputs": [
    {
     "name": "stdout",
     "output_type": "stream",
     "text": [
      "Digite um número: 1\n",
      "Você digitou o número 1\n",
      "Digite um número: 2\n",
      "Você digitou o número 2\n",
      "Digite um número: 3\n",
      "Você digitou o número 3\n",
      "Digite um número: 4\n",
      "Você digitou o número 4\n",
      "Digite um número: 78\n",
      "Você digitou o número 78\n",
      "Fim do Laço\n"
     ]
    }
   ],
   "source": [
    "for c in range (0,5):\n",
    "    n = int (input('Digite um número: '))\n",
    "    print ('Você digitou o número {}'.format(n))\n",
    "print ('Fim do Laço')"
   ]
  },
  {
   "cell_type": "code",
   "execution_count": 17,
   "metadata": {},
   "outputs": [
    {
     "name": "stdout",
     "output_type": "stream",
     "text": [
      "Digite um valor: 1\n",
      "Digite um valor: 2\n",
      "Digite um valor: 5\n",
      "Digite um valor: 4\n",
      "Digite um valor: 6\n",
      "A soma de todos os valores digitados é 18\n"
     ]
    }
   ],
   "source": [
    "s=0\n",
    "for c in range (0,5):\n",
    "    n = int(input('Digite um valor: '))\n",
    "    s = s+n #s += n\n",
    "print('A soma de todos os valores digitados é {}'.format(s))"
   ]
  },
  {
   "cell_type": "markdown",
   "metadata": {},
   "source": [
    "Faça um programa que mostre na tela uma contagem regressiva para o estouro de fogos de artificio, indo de 10 até 0, com uma pausa de 1 segundo entre eles"
   ]
  },
  {
   "cell_type": "code",
   "execution_count": 19,
   "metadata": {},
   "outputs": [
    {
     "name": "stdout",
     "output_type": "stream",
     "text": [
      "10\n",
      "9\n",
      "8\n",
      "7\n",
      "6\n",
      "5\n",
      "4\n",
      "3\n",
      "2\n",
      "1\n",
      "0\n",
      "Final contagem regressiva\n"
     ]
    }
   ],
   "source": [
    "import time\n",
    "\n",
    "for c in range (10,-1,-1):\n",
    "    print(c)\n",
    "    time.sleep(1)\n",
    "print('Final contagem regressiva')"
   ]
  },
  {
   "cell_type": "markdown",
   "metadata": {},
   "source": [
    "Crie um programa que mostre na tela todos os números pares que estão no intervalo entre 1 e 50"
   ]
  },
  {
   "cell_type": "code",
   "execution_count": 21,
   "metadata": {},
   "outputs": [
    {
     "name": "stdout",
     "output_type": "stream",
     "text": [
      "2\n",
      "4\n",
      "6\n",
      "8\n",
      "10\n",
      "12\n",
      "14\n",
      "16\n",
      "18\n",
      "20\n",
      "22\n",
      "24\n",
      "26\n",
      "28\n",
      "30\n",
      "32\n",
      "34\n",
      "36\n",
      "38\n",
      "40\n",
      "42\n",
      "44\n",
      "46\n",
      "48\n",
      "50\n",
      "Final dos pares entre 1 e 50\n"
     ]
    }
   ],
   "source": [
    "for c in range(1,51):\n",
    "    if(c%2==0):\n",
    "        print(c)\n",
    "print('Final dos pares entre 1 e 50')"
   ]
  },
  {
   "cell_type": "markdown",
   "metadata": {},
   "source": [
    "Faça um programa que calcule a soma entre todos os números ímpares que são multiplos de três e que se encontram no intervalo de 1 até 500"
   ]
  },
  {
   "cell_type": "code",
   "execution_count": 23,
   "metadata": {},
   "outputs": [
    {
     "name": "stdout",
     "output_type": "stream",
     "text": [
      "20667\n"
     ]
    }
   ],
   "source": [
    "soma =0\n",
    "for c in range (1,501):\n",
    "    if(c%2==1 and c%3==0):\n",
    "        soma = soma + c\n",
    "print (soma)"
   ]
  },
  {
   "cell_type": "markdown",
   "metadata": {},
   "source": [
    "Mostre a tabuada de um número que o usuário escolher, utilizando um laço for"
   ]
  },
  {
   "cell_type": "code",
   "execution_count": 25,
   "metadata": {},
   "outputs": [
    {
     "name": "stdout",
     "output_type": "stream",
     "text": [
      "Digite um número para exibir sua tabuada: 3\n",
      "3 x 0 = 0\n",
      "3 x 1 = 3\n",
      "3 x 2 = 6\n",
      "3 x 3 = 9\n",
      "3 x 4 = 12\n",
      "3 x 5 = 15\n",
      "3 x 6 = 18\n",
      "3 x 7 = 21\n",
      "3 x 8 = 24\n",
      "3 x 9 = 27\n",
      "3 x 10 = 30\n",
      "Final tabuada\n"
     ]
    }
   ],
   "source": [
    "n = int (input('Digite um número para exibir sua tabuada: '))\n",
    "for c in range(0,11):\n",
    "    tabuada = n*c\n",
    "    print(\"{} x {} = {}\".format(n,c,tabuada))\n",
    "print('Final tabuada')"
   ]
  },
  {
   "cell_type": "markdown",
   "metadata": {},
   "source": [
    "Desenvolva um programa que leia seis números inteiros e mostre a soma apenas daqueles que forem pares. Se o valor digitado for impar, desconsidere-o"
   ]
  },
  {
   "cell_type": "code",
   "execution_count": 27,
   "metadata": {},
   "outputs": [
    {
     "name": "stdout",
     "output_type": "stream",
     "text": [
      "digite um número: 1\n",
      "digite um número: 2\n",
      "digite um número: 3\n",
      "digite um número: 4\n",
      "digite um número: 5\n",
      "digite um número: 6\n",
      "Soma dos pares = 12\n"
     ]
    }
   ],
   "source": [
    "soma=0\n",
    "for c in range(0,6):\n",
    "    n = int(input('digite um número: '))\n",
    "    if(n%2==0):\n",
    "        soma = soma + n\n",
    "print('Soma dos pares = {}'.format(soma))"
   ]
  },
  {
   "cell_type": "markdown",
   "metadata": {},
   "source": [
    "Desenvolva um programa que leia o primeiro termo e a razão de uma PA. No final, mostre os 10 primeiros termos dessa progressão"
   ]
  },
  {
   "cell_type": "code",
   "execution_count": 35,
   "metadata": {},
   "outputs": [
    {
     "name": "stdout",
     "output_type": "stream",
     "text": [
      "Primeiro termo: 2\n",
      "Razão: 5\n",
      "2 -> 7 -> 12 -> 17 -> 22 -> 27 -> 32 -> 37 -> 42 -> Fim da PA\n"
     ]
    }
   ],
   "source": [
    "##nada mais é do que definir o primeiro termo \n",
    "##e de quantos  em quantos (razão)\n",
    "primeiro = int(input('Primeiro termo: '))\n",
    "razao = int(input ('Razão: '))\n",
    "decimoTermo = primeiro + (10-1)*razao\n",
    "for c in range(primeiro, decimoTermo + razao, razao):\n",
    "    print('{} '.format(c), end='-> ')\n",
    "print('Fim da PA')"
   ]
  },
  {
   "cell_type": "markdown",
   "metadata": {},
   "source": [
    "Faça um programa que leia um número inteiro e diga se ele é ou não um número primo"
   ]
  },
  {
   "cell_type": "code",
   "execution_count": 40,
   "metadata": {},
   "outputs": [
    {
     "name": "stdout",
     "output_type": "stream",
     "text": [
      "Digite um numero: 3\n",
      "3 é um número primo!\n"
     ]
    }
   ],
   "source": [
    "primo=0\n",
    "n = int(input('Digite um numero: '))\n",
    "\n",
    "for c in range(1,n+1): #não pode dividir por 0, então começar por 1 \n",
    "    if(n%c==0):\n",
    "        primo = primo + 1\n",
    "if primo<=2:\n",
    "    print('{} é um número primo!'.format(n))\n",
    "else:\n",
    "    print('{} não é um número primo!'.format(n))\n",
    "    "
   ]
  },
  {
   "cell_type": "markdown",
   "metadata": {},
   "source": [
    "Crie um programa que leia uma frase qualquer e diga se ela é um palíndromo, desconsiderando os espaços"
   ]
  },
  {
   "cell_type": "code",
   "execution_count": 7,
   "metadata": {},
   "outputs": [
    {
     "name": "stdout",
     "output_type": "stream",
     "text": [
      "Digite uma frase: não gosto de purê\n",
      "Não é palindromo!\n"
     ]
    }
   ],
   "source": [
    "frase = str(input('Digite uma frase: ')).strip().upper()\n",
    "palavras = frase.split() #divide a frase em palavras\n",
    "junto = ''.join(palavras) #junta palavras sem espaços\n",
    "inverso='' #alocando pra inverso\n",
    "#vamos varrer a string.\n",
    "#len(junto)-1 é a posição no tamanho das palavras juntas\n",
    "#sem espaços, -1 por causa do vetor. \n",
    "#Indo até a posição -1, porque precisa varrer a posição\n",
    "#inicial 0, indo para trás, -1\n",
    "for letra in range(len(junto)-1, -1, -1):\n",
    "    inverso = inverso+junto[letra]\n",
    "#aqui está incrementando pelo tamanho todo da palavra indo \n",
    "#de trás para frente\n",
    "\n",
    "if inverso == junto:\n",
    "    print('É palindromo!')\n",
    "else:\n",
    "    print ('Não é palindromo!')\n",
    "    "
   ]
  },
  {
   "cell_type": "markdown",
   "metadata": {},
   "source": [
    "Crie um programa que leia o ano de nascimento de sete pessoas. No final, mostre quantas pessoas ainda nao atingiram a maioriade e quantas já são maiores"
   ]
  },
  {
   "cell_type": "code",
   "execution_count": 5,
   "metadata": {},
   "outputs": [
    {
     "name": "stdout",
     "output_type": "stream",
     "text": [
      "Digite sua idade: 15\n",
      "Digite sua idade: 21\n",
      "Digite sua idade: 25\n",
      "Digite sua idade: 10\n",
      "Digite sua idade: 12\n",
      "Digite sua idade: 18\n",
      "Digite sua idade: 4\n",
      "há 2 maiores de idade e 5 menores.\n"
     ]
    }
   ],
   "source": [
    "maior=0\n",
    "menor=0\n",
    "for c in range(0,7):\n",
    "    idade = int(input('Digite sua idade: '))\n",
    "    if idade>=21:\n",
    "        maior = maior+1\n",
    "    else:\n",
    "        menor = menor+1\n",
    "print('há {} maiores de idade e {} menores.'.format(maior, menor))\n",
    "    "
   ]
  },
  {
   "cell_type": "markdown",
   "metadata": {},
   "source": [
    "Faça um programa que leia o peso de cinco pessoas. No final, mostre qual foi o maior e o menor peso lidos"
   ]
  },
  {
   "cell_type": "code",
   "execution_count": 7,
   "metadata": {},
   "outputs": [
    {
     "name": "stdout",
     "output_type": "stream",
     "text": [
      "Digite seu peso: 90\n",
      "Digite seu peso: 100\n",
      "Digite seu peso: 40\n",
      "Digite seu peso: 20\n",
      "Digite seu peso: 10\n",
      "Maior peso 100.0 e menor peso 0\n"
     ]
    }
   ],
   "source": [
    "maior = 0\n",
    "menor = 0\n",
    "\n",
    "for c in range(1,6):\n",
    "    peso = float(input('Digite seu peso: '))\n",
    "    if c==0:\n",
    "        menor = c\n",
    "        maior = c\n",
    "    else:\n",
    "        if peso>maior:\n",
    "            maior = peso\n",
    "        if peso<menor:\n",
    "            menor = peso\n",
    "print('Maior peso {} e menor peso {}'.format(maior, menor))"
   ]
  },
  {
   "cell_type": "markdown",
   "metadata": {},
   "source": [
    "Desenvolva um programa que leia o nome, idade e sexo de 4 pessoas. No final do programa mostre:\n",
    "-a média de idade do grupo;\n",
    "-qual o nome do homem mais velho;\n",
    "-quantas mulheres têm menos de 20 anos."
   ]
  },
  {
   "cell_type": "code",
   "execution_count": null,
   "metadata": {},
   "outputs": [],
   "source": []
  }
 ],
 "metadata": {
  "kernelspec": {
   "display_name": "Python 3",
   "language": "python",
   "name": "python3"
  },
  "language_info": {
   "codemirror_mode": {
    "name": "ipython",
    "version": 3
   },
   "file_extension": ".py",
   "mimetype": "text/x-python",
   "name": "python",
   "nbconvert_exporter": "python",
   "pygments_lexer": "ipython3",
   "version": "3.6.5"
  }
 },
 "nbformat": 4,
 "nbformat_minor": 2
}
