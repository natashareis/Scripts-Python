{
 "cells": [
  {
   "cell_type": "code",
   "execution_count": 4,
   "metadata": {},
   "outputs": [
    {
     "name": "stdout",
     "output_type": "stream",
     "text": [
      "Qual é o seu nome? Ana\n",
      "Belo nome feminino!\n",
      "Tenha um bom dia, Ana!\n"
     ]
    }
   ],
   "source": [
    "nome = str(input('Qual é o seu nome? '))\n",
    "if nome == 'Natasha':\n",
    "    print('Que nome bonito!')\n",
    "elif nome == 'Pedro' or nome =='Maria':\n",
    "    print('Seu nome é bem popular no Brasil.')\n",
    "elif nome in 'Ana Claudia Jessica Juliana':\n",
    "    print('Belo nome feminino!')\n",
    "else:\n",
    "    print('Seu nome é bem normal!')\n",
    "print('Tenha um bom dia, {}!'.format(nome))"
   ]
  },
  {
   "cell_type": "markdown",
   "metadata": {},
   "source": [
    "Escreva um programa para aprovar o empréstimo bancário para a compra de uma casa. O programa vai perguntar o valor da casa, o salário do comprador e em quantos anos ele vai pagar. Calcule o valor da prestação mensal, sabendo que ela não pode exceder 30% do salário ou então o empréstimo será negado"
   ]
  },
  {
   "cell_type": "code",
   "execution_count": 7,
   "metadata": {},
   "outputs": [
    {
     "name": "stdout",
     "output_type": "stream",
     "text": [
      "Digite o valor do imóvel: 100000\n",
      "Digite o valor do seu salario: 5000\n",
      "Em quantos anos irá pagar? 20\n",
      "Empréstimo aprovado, valor da prestação 416.67\n"
     ]
    }
   ],
   "source": [
    "casa = float(input('Digite o valor do imóvel: '))\n",
    "salario = float(input('Digite o valor do seu salario: '))\n",
    "anos = int(input('Em quantos anos irá pagar? '))\n",
    "\n",
    "meses = int(anos*12)\n",
    "prestacao = float(casa/meses)\n",
    "\n",
    "if prestacao/salario < 0.3:\n",
    "    print ('Empréstimo aprovado, valor da prestação R${:.2f}'.format(prestacao))\n",
    "else:\n",
    "    print('Empréstimo reprovado!')"
   ]
  },
  {
   "cell_type": "markdown",
   "metadata": {},
   "source": [
    "Escreva um programa que leia um número inteiro qualquer e peça para o usuário escolher qual será a base para conversão:\n",
    "1 - binário\n",
    "2 - octal\n",
    "3 - hexadecimal"
   ]
  },
  {
   "cell_type": "code",
   "execution_count": 13,
   "metadata": {},
   "outputs": [
    {
     "name": "stdout",
     "output_type": "stream",
     "text": [
      "Digite um número para conversão: 3\n",
      "Digite 1 para binário, 2 para octal, 3 para hexadecimal: 3\n",
      "O valor 3 convertido para hexadecimal é 0x3\n"
     ]
    }
   ],
   "source": [
    "n = int(input('Digite um número para conversão: '))\n",
    "escolha = int(input('Digite 1 para binário, 2 para octal, 3 para hexadecimal: '))\n",
    "if escolha == 1:\n",
    "    convertido = bin(n)\n",
    "    print('O valor {} convertido para binário é {}'.format(n, convertido))\n",
    "elif escolha == 2:\n",
    "    convertido = oct(n)\n",
    "    print('O valor {} convertido para octal é {}'.format(n, convertido))\n",
    "elif escolha == 3:\n",
    "    convertido = hex(n)\n",
    "    print('O valor {} convertido para hexadecimal é {}'.format(n, convertido))\n",
    "else:\n",
    "    print('Opção inválida!')"
   ]
  },
  {
   "cell_type": "markdown",
   "metadata": {},
   "source": [
    "Escrea um programa que leia dois números interos e compare-os, mostrando na tela qual é o maior, ou se ambos são iguais"
   ]
  },
  {
   "cell_type": "code",
   "execution_count": 16,
   "metadata": {},
   "outputs": [
    {
     "name": "stdout",
     "output_type": "stream",
     "text": [
      "Digite um número inteiro: 2\n",
      "Digite outro inteiro: 1\n",
      "O primeiro é maior!\n"
     ]
    }
   ],
   "source": [
    "n1 = int(input('Digite um número inteiro: '))\n",
    "n2 = int(input('Digite outro inteiro: '))\n",
    "if n1>n2:\n",
    "    print('O primeiro é maior!')\n",
    "elif n1<n2:\n",
    "    print('O segundo é maior!')\n",
    "else:\n",
    "    print('Ambos são iguais!!!')"
   ]
  },
  {
   "cell_type": "markdown",
   "metadata": {},
   "source": [
    "Programa q leia o ano de nascimento e informe se já é hora de se alistar, quanto tempo falta ou passou do prazo"
   ]
  },
  {
   "cell_type": "code",
   "execution_count": 20,
   "metadata": {},
   "outputs": [
    {
     "name": "stdout",
     "output_type": "stream",
     "text": [
      "Digite o ano do nascimento: 2005\n",
      "Falta(m) 5 anos para você se alistar!\n"
     ]
    }
   ],
   "source": [
    "from datetime import date\n",
    "anoatual = date.today().year\n",
    "anonasc =int(input('Digite o ano do nascimento: '))\n",
    "idade = anoatual - anonasc\n",
    "\n",
    "if idade>18 and idade<25:\n",
    "    print('Hora de se alistar')\n",
    "elif idade<18:\n",
    "    diferenca = 18 - idade\n",
    "    print('Falta(m) {} anos para você se alistar!'.format(diferenca))\n",
    "else:\n",
    "    diferenca = idade - 25\n",
    "    print('Já passou(ram) {} anos da data de alistamento'.format(diferenca))"
   ]
  },
  {
   "cell_type": "code",
   "execution_count": null,
   "metadata": {},
   "outputs": [],
   "source": []
  }
 ],
 "metadata": {
  "kernelspec": {
   "display_name": "Python 3",
   "language": "python",
   "name": "python3"
  },
  "language_info": {
   "codemirror_mode": {
    "name": "ipython",
    "version": 3
   },
   "file_extension": ".py",
   "mimetype": "text/x-python",
   "name": "python",
   "nbconvert_exporter": "python",
   "pygments_lexer": "ipython3",
   "version": "3.6.5"
  }
 },
 "nbformat": 4,
 "nbformat_minor": 2
}
